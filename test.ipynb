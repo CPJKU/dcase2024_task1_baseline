{
 "cells": [
  {
   "cell_type": "markdown",
   "metadata": {},
   "source": [
    "## Sanity Check for meta.csv vs wav files"
   ]
  },
  {
   "cell_type": "code",
   "execution_count": null,
   "metadata": {},
   "outputs": [],
   "source": [
    "import os\n",
    "import pandas as pd\n",
    "\n",
    "def check_files_in_directory(csv_file, directory):\n",
    "    # Step 1: Read the CSV file\n",
    "    df = pd.read_csv(csv_file, delimiter='\\t')\n",
    "    print(df)\n",
    "    # Step 2: List files in the directory\n",
    "    files_in_directory = os.listdir(directory)\n",
    "    \n",
    "    # Step 3: Compare file names\n",
    "    missing_files = []\n",
    "    for file_name in df['filename']:\n",
    "        file_name = os.path.basename(file_name)  # Extract filename from path\n",
    "        if file_name not in files_in_directory:\n",
    "            missing_files.append(file_name)\n",
    "    \n",
    "    # Step 4: Report results\n",
    "    if len(missing_files) == 0:\n",
    "        print(\"All files described in the CSV are present in the directory.\")\n",
    "    else:\n",
    "        print(\"The following files are missing from the directory:\")\n",
    "        for missing_file in missing_files:\n",
    "            print(missing_file)\n",
    "\n",
    "# Example usage:\n",
    "csv_file = \"D:\\Sean\\DCASE\\datasets\\Extract_to_Folder\\TAU-urban-acoustic-scenes-2022-mobile-development\\meta.csv\"\n",
    "directory = \"D:\\Sean\\DCASE\\datasets\\Extract_to_Folder\\TAU-urban-acoustic-scenes-2022-mobile-development\\\\audio\"\n",
    "check_files_in_directory(csv_file, directory)\n"
   ]
  },
  {
   "cell_type": "markdown",
   "metadata": {},
   "source": [
    "## Checking Logit values"
   ]
  },
  {
   "cell_type": "code",
   "execution_count": 4,
   "metadata": {},
   "outputs": [
    {
     "name": "stderr",
     "output_type": "stream",
     "text": [
      "c:\\Users\\eeeds\\anaconda3\\envs\\dcase2024\\lib\\site-packages\\tqdm\\auto.py:21: TqdmWarning: IProgress not found. Please update jupyter and ipywidgets. See https://ipywidgets.readthedocs.io/en/stable/user_install.html\n",
      "  from .autonotebook import tqdm as notebook_tqdm\n"
     ]
    },
    {
     "name": "stdout",
     "output_type": "stream",
     "text": [
      "tensor([[11.4531, -5.4258, -3.4219,  ...,  3.7383, -9.1797, -4.6953],\n",
      "        [ 7.7656, -2.4453, -1.4922,  ..., -1.6553, -5.6523, -2.7441],\n",
      "        [ 9.1953, -4.3438, -2.1680,  ...,  2.9082, -6.1914, -4.6367],\n",
      "        ...,\n",
      "        [-3.4199,  0.4106, -0.6025,  ..., -0.5483,  0.6006,  3.3672],\n",
      "        [-3.1270, -0.2114, -2.3418,  ..., -0.0861, -1.2314,  5.2344],\n",
      "        [-0.7363, -3.0469, -2.0430,  ...,  1.4385, -4.3555,  6.5938]],\n",
      "       dtype=torch.float16)\n"
     ]
    }
   ],
   "source": [
    "import torch\n",
    "\n",
    "# Specify the path to the logits file\n",
    "logits_file_path = \"D:\\Sean\\github\\dcase2024_task1\\predictions\\904bkzkq\\logits.pt\"\n",
    "\n",
    "# Load the tensors from the file\n",
    "logits = torch.load(logits_file_path)\n",
    "\n",
    "# Now you can inspect the loaded logits\n",
    "print(logits)\n"
   ]
  },
  {
   "cell_type": "markdown",
   "metadata": {},
   "source": [
    "## WANDB API Get Run data"
   ]
  },
  {
   "cell_type": "code",
   "execution_count": 8,
   "metadata": {},
   "outputs": [
    {
     "data": {
      "image/png": "[encoded data removed]",
      "text/plain": [
       "<Figure size 1000x600 with 1 Axes>"
      ]
     },
     "metadata": {},
     "output_type": "display_data"
    },
    {
     "data": {
      "text/plain": [
       "56"
      ]
     },
     "execution_count": 8,
     "metadata": {},
     "output_type": "execute_result"
    }
   ],
   "source": [
    "import pandas as pd\n",
    "import wandb\n",
    "import matplotlib.pyplot as plt\n",
    "\n",
    "# Initialize wandb API\n",
    "api = wandb.Api()\n",
    "\n",
    "# Define entity and project\n",
    "entity, project = \"seanyeo300\", \"DCASE24_Task1\"\n",
    "\n",
    "# Get runs\n",
    "runs = api.runs(entity + \"/\" + project)\n",
    "\n",
    "# Initialize lists to store data\n",
    "summary_list, config_list, name_list = [], [], []\n",
    "\n",
    "# Loop through runs and collect summary, config, and name data\n",
    "for run in runs:\n",
    "    summary_list.append(run.summary._json_dict)\n",
    "    config_list.append({k: v for k, v in run.config.items() if not k.startswith(\"_\")})\n",
    "    name_list.append(run.name)\n",
    "\n",
    "# Create DataFrame\n",
    "runs_df = pd.DataFrame({\"summary\": summary_list, \"config\": config_list, \"name\": name_list})\n",
    "\n",
    "# Extract accuracies from summary_list\n",
    "accuracies = [summary['accuracy'] for summary in summary_list if 'acc' in summary]\n",
    "\n",
    "# Plot accuracies as histogram\n",
    "plt.figure(figsize=(10, 6))\n",
    "plt.hist(accuracies, bins=10, color='skyblue', edgecolor='black', alpha=0.7)\n",
    "plt.xlabel('Accuracy')\n",
    "plt.ylabel('Frequency')\n",
    "plt.title('Histogram of Accuracies')\n",
    "plt.grid(True)\n",
    "plt.show()\n",
    "56"
   ]
  }
 ],
 "metadata": {
  "kernelspec": {
   "display_name": "dcase2024",
   "language": "python",
   "name": "python3"
  },
  "language_info": {
   "codemirror_mode": {
    "name": "ipython",
    "version": 3
   },
   "file_extension": ".py",
   "mimetype": "text/x-python",
   "name": "python",
   "nbconvert_exporter": "python",
   "pygments_lexer": "ipython3",
   "version": "3.7.9"
  }
 },
 "nbformat": 4,
 "nbformat_minor": 2
}
